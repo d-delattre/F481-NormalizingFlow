{
 "cells": [
  {
   "cell_type": "code",
   "execution_count": 1,
   "metadata": {},
   "outputs": [],
   "source": [
    "import numpy as np\n",
    "# import scipy as sp\n",
    "# import scipy.linalg\n",
    "import torch\n",
    "import torch.nn as nn\n",
    "import torch.nn.init as init\n",
    "import torch.nn.functional as F\n",
    "from torch.distributions import MultivariateNormal\n",
    "import torch.optim as optim\n",
    "\n",
    "from utils import *\n",
    "\n",
    "import matplotlib.pyplot as plt"
   ]
  },
  {
   "cell_type": "code",
   "execution_count": 2,
   "metadata": {},
   "outputs": [],
   "source": [
    "def Generate_sample(nPoints):\n",
    "    n = nPoints // 2\n",
    "    g1 = np.random.normal(loc=-2.5, scale=1, size=n)\n",
    "    g2 = np.random.normal(loc=2.5, scale=1, size=n)\n",
    "    out = np.concatenate([g1, g2])\n",
    "    out = out.reshape((2*n,1))\n",
    "    return out "
   ]
  },
  {
   "cell_type": "code",
   "execution_count": 3,
   "metadata": {},
   "outputs": [
    {
     "data": {
      "image/png": "[encoded data removed]",
      "text/plain": [
       "<Figure size 640x480 with 1 Axes>"
      ]
     },
     "metadata": {},
     "output_type": "display_data"
    }
   ],
   "source": [
    "sample = Generate_sample(50000)\n",
    "\n",
    "\n",
    "fig, ax = plt.subplots()\n",
    "ax.hist(sample, bins=50)\n",
    "plt.show()"
   ]
  },
  {
   "cell_type": "code",
   "execution_count": 4,
   "metadata": {},
   "outputs": [],
   "source": [
    "class NormalizingFlowModel(nn.Module):\n",
    "\n",
    "    def __init__(self, dim, flows):\n",
    "        super().__init__()\n",
    "        self.prior = MultivariateNormal(torch.zeros(dim), torch.eye(dim))\n",
    "        self.flows = nn.ModuleList(flows)\n",
    "\n",
    "    def forward(self, x):\n",
    "        bsz, _ = x.shape\n",
    "        log_det = torch.zeros(bsz)\n",
    "        for flow in self.flows:\n",
    "            x, ld = flow.forward(x)\n",
    "            log_det += ld\n",
    "        z, prior_logprob = x, self.prior.log_prob(x)\n",
    "        return z, prior_logprob, log_det\n",
    "\n",
    "    def inverse(self, z):\n",
    "        bsz, _ = z.shape\n",
    "        log_det = torch.zeros(bsz)\n",
    "        for flow in self.flows[::-1]:\n",
    "            z, ld = flow.inverse(z)\n",
    "            log_det += ld\n",
    "        x = z\n",
    "        return x, log_det\n",
    "\n",
    "    def sample(self, n_samples):\n",
    "        z = self.prior.sample((n_samples,))\n",
    "        x, _ = self.inverse(z)\n",
    "        return x"
   ]
  },
  {
   "cell_type": "code",
   "execution_count": 5,
   "metadata": {},
   "outputs": [],
   "source": [
    "class FCNN(nn.Module):\n",
    "    def __init__(self, in_dim, out_dim, hidden_dim):\n",
    "        super().__init__()\n",
    "        self.network = nn.Sequential(\n",
    "            nn.Linear(in_dim, hidden_dim+128),\n",
    "            nn.Tanh(),\n",
    "            nn.Linear(hidden_dim+128, hidden_dim+64),\n",
    "            nn.Tanh(),\n",
    "            nn.Linear(hidden_dim+64, hidden_dim+16),\n",
    "            nn.Tanh(),\n",
    "            nn.Linear(hidden_dim+16, hidden_dim),\n",
    "            nn.Tanh(),\n",
    "            nn.Linear(hidden_dim, out_dim),         \n",
    "        )\n",
    "\n",
    "    def forward(self, x):\n",
    "        return self.network(x)"
   ]
  },
  {
   "cell_type": "code",
   "execution_count": 6,
   "metadata": {},
   "outputs": [],
   "source": [
    "class NSF_AR(nn.Module):\n",
    "    def __init__(self, dim, K = 10, B = 6, hidden_dim = 8, base_network = FCNN):\n",
    "        super().__init__()\n",
    "        self.dim = dim\n",
    "        self.K = K\n",
    "        self.B = B\n",
    "        self.layers = nn.ModuleList()\n",
    "        self.init_param = nn.Parameter(torch.Tensor(3 * K - 1))\n",
    "        for i in range(1, dim):\n",
    "            self.layers += [base_network(i, 3 * K - 1, hidden_dim)]\n",
    " \n",
    "\n",
    "    def forward(self, x):\n",
    "        z = torch.zeros_like(x)\n",
    "        log_det = torch.zeros(z.shape[0])\n",
    "        for i in range(self.dim):\n",
    "            if i == 0:\n",
    "                init_param = self.init_param.expand(x.shape[0], 3 * self.K - 1)\n",
    "                W, H, D = torch.split(init_param, self.K, dim = 1)\n",
    "            else:\n",
    "                out = self.layers[i - 1](x[:, :i])\n",
    "                W, H, D = torch.split(out, self.K, dim = 1)\n",
    "            W, H = torch.softmax(W, dim = 1), torch.softmax(H, dim = 1)\n",
    "            W, H = 2 * self.B * W, 2 * self.B * H\n",
    "            D = F.softplus(D)\n",
    "            z[:, i], ld = unconstrained_RQS(\n",
    "                x[:, i], W, H, D, inverse=False, tail_bound=self.B)\n",
    "            log_det += ld\n",
    "        return z, log_det\n",
    "\n",
    "    def inverse(self, z):\n",
    "        x = torch.zeros_like(z)\n",
    "        log_det = torch.zeros(x.shape[0])\n",
    "        for i in range(self.dim):\n",
    "            if i == 0:\n",
    "                init_param = self.init_param.expand(x.shape[0], 3 * self.K - 1)\n",
    "                W, H, D = torch.split(init_param, self.K, dim = 1)\n",
    "            else:\n",
    "                out = self.layers[i - 1](x[:, :i])\n",
    "                W, H, D = torch.split(out, self.K, dim = 1)\n",
    "            W, H = torch.softmax(W, dim = 1), torch.softmax(H, dim = 1)\n",
    "            W, H = 2 * self.B * W, 2 * self.B * H\n",
    "            D = F.softplus(D)\n",
    "            x[:, i], ld = unconstrained_RQS(\n",
    "                z[:, i], W, H, D, inverse = True, tail_bound = self.B)\n",
    "            log_det += ld\n",
    "        return x, log_det"
   ]
  },
  {
   "cell_type": "code",
   "execution_count": 7,
   "metadata": {},
   "outputs": [
    {
     "name": "stdout",
     "output_type": "stream",
     "text": [
      "torch.Size([10000, 1])\n",
      "Iter:  0     Loss:  tensor(4.5561, grad_fn=<NegBackward0>)\n",
      "Logprob:  tensor(-4.5561)\n",
      "Prior:  tensor(-4.5521)\n",
      "LogDet:  tensor(-0.0040)\n",
      "Iter:  100     Loss:  tensor(2.2359, grad_fn=<NegBackward0>)\n",
      "Logprob:  tensor(-2.2359)\n",
      "Prior:  tensor(-1.5610)\n",
      "LogDet:  tensor(-0.6749)\n",
      "Iter:  200     Loss:  tensor(2.1160, grad_fn=<NegBackward0>)\n",
      "Logprob:  tensor(-2.1160)\n",
      "Prior:  tensor(-1.4700)\n",
      "LogDet:  tensor(-0.6459)\n",
      "Iter:  300     Loss:  tensor(2.0969, grad_fn=<NegBackward0>)\n",
      "Logprob:  tensor(-2.0969)\n",
      "Prior:  tensor(-1.4451)\n",
      "LogDet:  tensor(-0.6518)\n",
      "Iter:  400     Loss:  tensor(2.0940, grad_fn=<NegBackward0>)\n",
      "Logprob:  tensor(-2.0940)\n",
      "Prior:  tensor(-1.4406)\n",
      "LogDet:  tensor(-0.6534)\n",
      "Iter:  500     Loss:  tensor(2.0928, grad_fn=<NegBackward0>)\n",
      "Logprob:  tensor(-2.0928)\n",
      "Prior:  tensor(-1.4376)\n",
      "LogDet:  tensor(-0.6553)\n",
      "Iter:  600     Loss:  tensor(2.0921, grad_fn=<NegBackward0>)\n",
      "Logprob:  tensor(-2.0921)\n",
      "Prior:  tensor(-1.4349)\n",
      "LogDet:  tensor(-0.6572)\n",
      "Iter:  700     Loss:  tensor(2.0915, grad_fn=<NegBackward0>)\n",
      "Logprob:  tensor(-2.0915)\n",
      "Prior:  tensor(-1.4332)\n",
      "LogDet:  tensor(-0.6582)\n",
      "Iter:  800     Loss:  tensor(2.0910, grad_fn=<NegBackward0>)\n",
      "Logprob:  tensor(-2.0910)\n",
      "Prior:  tensor(-1.4323)\n",
      "LogDet:  tensor(-0.6586)\n",
      "Iter:  900     Loss:  tensor(2.0906, grad_fn=<NegBackward0>)\n",
      "Logprob:  tensor(-2.0906)\n",
      "Prior:  tensor(-1.4317)\n",
      "LogDet:  tensor(-0.6589)\n",
      "Iter:  1000     Loss:  tensor(2.0903, grad_fn=<NegBackward0>)\n",
      "Logprob:  tensor(-2.0903)\n",
      "Prior:  tensor(-1.4308)\n",
      "LogDet:  tensor(-0.6596)\n",
      "Iter:  1100     Loss:  tensor(2.0901, grad_fn=<NegBackward0>)\n",
      "Logprob:  tensor(-2.0901)\n",
      "Prior:  tensor(-1.4303)\n",
      "LogDet:  tensor(-0.6598)\n",
      "Iter:  1200     Loss:  tensor(2.0899, grad_fn=<NegBackward0>)\n",
      "Logprob:  tensor(-2.0899)\n",
      "Prior:  tensor(-1.4298)\n",
      "LogDet:  tensor(-0.6601)\n",
      "Iter:  1300     Loss:  tensor(2.0896, grad_fn=<NegBackward0>)\n",
      "Logprob:  tensor(-2.0896)\n",
      "Prior:  tensor(-1.4300)\n",
      "LogDet:  tensor(-0.6597)\n",
      "Iter:  1400     Loss:  tensor(2.0894, grad_fn=<NegBackward0>)\n",
      "Logprob:  tensor(-2.0894)\n",
      "Prior:  tensor(-1.4303)\n",
      "LogDet:  tensor(-0.6592)\n",
      "Iter:  1500     Loss:  tensor(2.0893, grad_fn=<NegBackward0>)\n",
      "Logprob:  tensor(-2.0893)\n",
      "Prior:  tensor(-1.4293)\n",
      "LogDet:  tensor(-0.6599)\n"
     ]
    }
   ],
   "source": [
    "n_samples = 10000\n",
    "epochs = 1501\n",
    "\n",
    "flow = NSF_AR\n",
    "flows = [flow(dim=1) for _ in range(2)]\n",
    "model = NormalizingFlowModel(dim=1, flows=flows)\n",
    "\n",
    "optimizer = optim.Adam(model.parameters(), lr=0.005)\n",
    "x = torch.Tensor(Generate_sample(n_samples))\n",
    "print(x.shape)\n",
    "\n",
    "# for i in range(x.shape[1]):\n",
    "#     x[:,i] = (x[:,i] - torch.mean(x[:,i])) / torch.std(x[:,i])\n",
    "\n",
    "for i in range(epochs):\n",
    "    optimizer.zero_grad()\n",
    "    z, prior_logprob, log_det = model(x)\n",
    "    logprob = prior_logprob + log_det\n",
    "    loss = -torch.mean(prior_logprob + log_det)\n",
    "    loss.backward()\n",
    "    optimizer.step()\n",
    "    if i % 100 == 0:\n",
    "        print(\"Iter: \", i, \"    Loss: \", loss)\n",
    "        print(\"Logprob: \", logprob.mean().data)\n",
    "        print(\"Prior: \", prior_logprob.mean().data)\n",
    "        print(\"LogDet: \", log_det.mean().data)"
   ]
  },
  {
   "cell_type": "code",
   "execution_count": 8,
   "metadata": {},
   "outputs": [
    {
     "data": {
      "image/png": "[encoded data removed]",
      "text/plain": [
       "<Figure size 640x480 with 1 Axes>"
      ]
     },
     "metadata": {},
     "output_type": "display_data"
    }
   ],
   "source": [
    "fig, ax = plt.subplots()\n",
    "ax.hist(x.numpy(), bins=50)\n",
    "plt.show()"
   ]
  },
  {
   "cell_type": "code",
   "execution_count": 9,
   "metadata": {},
   "outputs": [
    {
     "data": {
      "image/png": "[encoded data removed]",
      "text/plain": [
       "<Figure size 640x480 with 1 Axes>"
      ]
     },
     "metadata": {},
     "output_type": "display_data"
    }
   ],
   "source": [
    "fig, ax = plt.subplots()\n",
    "ax.hist(z.data.numpy(), bins=50)\n",
    "plt.show()"
   ]
  },
  {
   "cell_type": "code",
   "execution_count": 10,
   "metadata": {},
   "outputs": [
    {
     "data": {
      "image/png": "[encoded data removed]",
      "text/plain": [
       "<Figure size 640x480 with 1 Axes>"
      ]
     },
     "metadata": {},
     "output_type": "display_data"
    }
   ],
   "source": [
    "samples = model.sample(10000).data\n",
    "fig, ax = plt.subplots()\n",
    "#ax.set_xlim((-3,3))\n",
    "ax.hist(samples.numpy(), bins=50)\n",
    "plt.show()"
   ]
  },
  {
   "cell_type": "code",
   "execution_count": null,
   "metadata": {},
   "outputs": [],
   "source": []
  }
 ],
 "metadata": {
  "kernelspec": {
   "display_name": "NF_venv",
   "language": "python",
   "name": "python3"
  },
  "language_info": {
   "codemirror_mode": {
    "name": "ipython",
    "version": 3
   },
   "file_extension": ".py",
   "mimetype": "text/x-python",
   "name": "python",
   "nbconvert_exporter": "python",
   "pygments_lexer": "ipython3",
   "version": "3.9.10"
  },
  "orig_nbformat": 4
 },
 "nbformat": 4,
 "nbformat_minor": 2
}
